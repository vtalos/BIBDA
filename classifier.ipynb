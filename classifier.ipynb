{
 "cells": [
  {
   "cell_type": "markdown",
   "metadata": {},
   "source": [
    "# Introduction\n",
    "This Jupyter Notebook analyzes YouTube trending videos using machine learning. It predicts whether a video has a \"high view count\" based on video and channel attributes. A Random Forest Classifier is trained and evaluated using a stratified k-fold cross-validation method. The importance of features is also analyzed."
   ]
  },
  {
   "cell_type": "markdown",
   "metadata": {
    "vscode": {
     "languageId": "plaintext"
    }
   },
   "source": [
    "# Data Preparation\n",
    "- We start by importing the necessary libraries."
   ]
  },
  {
   "cell_type": "code",
   "execution_count": 1,
   "metadata": {},
   "outputs": [],
   "source": [
    "import pandas as pd\n",
    "from sklearn.model_selection import train_test_split, cross_val_score\n",
    "from sklearn.ensemble import RandomForestClassifier\n",
    "from sklearn.metrics import accuracy_score, classification_report\n",
    "from sklearn.preprocessing import LabelEncoder\n",
    "from sklearn.model_selection import StratifiedKFold"
   ]
  },
  {
   "cell_type": "markdown",
   "metadata": {},
   "source": [
    "- Load the dataset"
   ]
  },
  {
   "cell_type": "code",
   "execution_count": 2,
   "metadata": {},
   "outputs": [],
   "source": [
    "# Read data \n",
    "df = pd.read_csv('cleaned_youtube_trending_videos_global.csv')"
   ]
  },
  {
   "cell_type": "markdown",
   "metadata": {},
   "source": [
    "- Preprocess features using label encoding"
   ]
  },
  {
   "cell_type": "code",
   "execution_count": 3,
   "metadata": {},
   "outputs": [],
   "source": [
    "# Encode categorical features\n",
    "label_encoder = LabelEncoder()\n",
    "df['video_category_id'] = label_encoder.fit_transform(df['video_category_id'])\n",
    "df['video_dimension'] = label_encoder.fit_transform(df['video_dimension'])\n",
    "df['video_definition'] = label_encoder.fit_transform(df['video_definition'])\n",
    "df['channel_country'] = label_encoder.fit_transform(df['channel_country'])\n",
    "df['channel_have_hidden_subscribers'] = label_encoder.fit_transform(df['channel_have_hidden_subscribers'].astype(str))"
   ]
  },
  {
   "cell_type": "markdown",
   "metadata": {},
   "source": [
    "- Create the target variable (high_view_count)"
   ]
  },
  {
   "cell_type": "code",
   "execution_count": 4,
   "metadata": {},
   "outputs": [],
   "source": [
    "median_view_count = df['video_view_count'].median()\n",
    "df['high_view_count'] = (df['video_view_count'] > median_view_count).astype(int)"
   ]
  },
  {
   "cell_type": "markdown",
   "metadata": {},
   "source": [
    "# Feature Selection\n",
    "- Select relevant features for training the machine learning model."
   ]
  },
  {
   "cell_type": "code",
   "execution_count": 5,
   "metadata": {},
   "outputs": [],
   "source": [
    "# Define features and target\n",
    "features = ['video_category_id', 'video_duration', 'video_dimension', 'video_definition', 'channel_view_count', \n",
    "            'channel_subscriber_count', 'channel_video_count', 'channel_have_hidden_subscribers']\n",
    "X = df[features]\n",
    "y = df['high_view_count']"
   ]
  },
  {
   "cell_type": "markdown",
   "metadata": {},
   "source": [
    "# Train-Test Split\n",
    "- Split the data into training and test sets."
   ]
  },
  {
   "cell_type": "code",
   "execution_count": 6,
   "metadata": {},
   "outputs": [],
   "source": [
    "X_train, X_test, y_train, y_test = train_test_split(X, y, test_size=0.2, random_state=42)"
   ]
  },
  {
   "cell_type": "markdown",
   "metadata": {},
   "source": [
    "# Model Training and Cross-Validation\n",
    "- Train a Random Forest Classifier and evaluate it using stratified k-fold cross-validation."
   ]
  },
  {
   "cell_type": "code",
   "execution_count": 7,
   "metadata": {},
   "outputs": [],
   "source": [
    "rf_classifier = RandomForestClassifier(\n",
    "    n_estimators=50,\n",
    "    max_depth=None,\n",
    "    min_samples_split=2,\n",
    ")\n",
    "\n",
    "# Perform stratified k-fold cross-validation\n",
    "cv = StratifiedKFold(n_splits=5, shuffle=True, random_state=42)\n",
    "cv_scores = cross_val_score(rf_classifier, X_train, y_train, cv=cv, scoring='accuracy')"
   ]
  },
  {
   "cell_type": "markdown",
   "metadata": {},
   "source": [
    "- Let's take a look to the cross-validation scores and accuracy relusts"
   ]
  },
  {
   "cell_type": "code",
   "execution_count": 8,
   "metadata": {},
   "outputs": [
    {
     "name": "stdout",
     "output_type": "stream",
     "text": [
      "Cross-validation scores:\n"
     ]
    },
    {
     "data": {
      "text/plain": [
       "array([0.99339769, 0.99362088, 0.99382382, 0.99351264, 0.99417558])"
      ]
     },
     "execution_count": 8,
     "metadata": {},
     "output_type": "execute_result"
    }
   ],
   "source": [
    "print(\"Cross-validation scores:\")\n",
    "cv_scores"
   ]
  },
  {
   "cell_type": "code",
   "execution_count": 9,
   "metadata": {},
   "outputs": [
    {
     "name": "stdout",
     "output_type": "stream",
     "text": [
      "Mean cross-validation accuracy:\n"
     ]
    },
    {
     "data": {
      "text/plain": [
       "np.float64(0.9937061228773182)"
      ]
     },
     "execution_count": 9,
     "metadata": {},
     "output_type": "execute_result"
    }
   ],
   "source": [
    "print(\"Mean cross-validation accuracy:\")\n",
    "cv_scores.mean()"
   ]
  },
  {
   "cell_type": "markdown",
   "metadata": {},
   "source": [
    "# Model Evaluation\n",
    "- Evaluate the trained model on the test set and report accuracy, classification report, and feature importance."
   ]
  },
  {
   "cell_type": "code",
   "execution_count": 10,
   "metadata": {},
   "outputs": [
    {
     "name": "stdout",
     "output_type": "stream",
     "text": [
      "Accuracy:\n"
     ]
    },
    {
     "data": {
      "text/plain": [
       "0.9944637764296499"
      ]
     },
     "execution_count": 10,
     "metadata": {},
     "output_type": "execute_result"
    }
   ],
   "source": [
    "# Train the model\n",
    "rf_classifier.fit(X_train, y_train)\n",
    "\n",
    "# Predict on the test set\n",
    "y_pred = rf_classifier.predict(X_test)\n",
    "\n",
    "# Evaluate the model\n",
    "print(\"Accuracy:\")\n",
    "accuracy_score(y_test, y_pred)"
   ]
  },
  {
   "cell_type": "markdown",
   "metadata": {},
   "source": [
    "-  Let's evaluate the model's accuracy on the training data"
   ]
  },
  {
   "cell_type": "code",
   "execution_count": 11,
   "metadata": {},
   "outputs": [
    {
     "name": "stdout",
     "output_type": "stream",
     "text": [
      "Train Accuracy:\n"
     ]
    },
    {
     "data": {
      "text/plain": [
       "0.9980625897168431"
      ]
     },
     "execution_count": 11,
     "metadata": {},
     "output_type": "execute_result"
    }
   ],
   "source": [
    "y_train_pred = rf_classifier.predict(X_train)\n",
    "print(\"Train Accuracy:\")\n",
    "accuracy_score(y_train, y_train_pred)"
   ]
  },
  {
   "cell_type": "markdown",
   "metadata": {},
   "source": [
    "-  Let's take a look at the classification report for the test data"
   ]
  },
  {
   "cell_type": "code",
   "execution_count": 12,
   "metadata": {},
   "outputs": [
    {
     "name": "stdout",
     "output_type": "stream",
     "text": [
      "Classification Report:\n",
      "\n"
     ]
    },
    {
     "data": {
      "text/plain": [
       "'              precision    recall  f1-score   support\\n\\n           0       1.00      0.99      0.99     92416\\n           1       0.99      1.00      0.99     92367\\n\\n    accuracy                           0.99    184783\\n   macro avg       0.99      0.99      0.99    184783\\nweighted avg       0.99      0.99      0.99    184783\\n'"
      ]
     },
     "execution_count": 12,
     "metadata": {},
     "output_type": "execute_result"
    }
   ],
   "source": [
    "print(\"Classification Report:\\n\")\n",
    "classification_report(y_test, y_pred)"
   ]
  },
  {
   "cell_type": "markdown",
   "metadata": {},
   "source": [
    "-  Let's analyze the feature importances from the random forest model"
   ]
  },
  {
   "cell_type": "code",
   "execution_count": 13,
   "metadata": {},
   "outputs": [
    {
     "name": "stdout",
     "output_type": "stream",
     "text": [
      "Feature Importances:\n",
      "\n"
     ]
    },
    {
     "data": {
      "text/html": [
       "<div>\n",
       "<style scoped>\n",
       "    .dataframe tbody tr th:only-of-type {\n",
       "        vertical-align: middle;\n",
       "    }\n",
       "\n",
       "    .dataframe tbody tr th {\n",
       "        vertical-align: top;\n",
       "    }\n",
       "\n",
       "    .dataframe thead th {\n",
       "        text-align: right;\n",
       "    }\n",
       "</style>\n",
       "<table border=\"1\" class=\"dataframe\">\n",
       "  <thead>\n",
       "    <tr style=\"text-align: right;\">\n",
       "      <th></th>\n",
       "      <th>importance</th>\n",
       "    </tr>\n",
       "  </thead>\n",
       "  <tbody>\n",
       "    <tr>\n",
       "      <th>video_duration</th>\n",
       "      <td>0.308634</td>\n",
       "    </tr>\n",
       "    <tr>\n",
       "      <th>channel_view_count</th>\n",
       "      <td>0.276251</td>\n",
       "    </tr>\n",
       "    <tr>\n",
       "      <th>channel_subscriber_count</th>\n",
       "      <td>0.224004</td>\n",
       "    </tr>\n",
       "    <tr>\n",
       "      <th>channel_video_count</th>\n",
       "      <td>0.142087</td>\n",
       "    </tr>\n",
       "    <tr>\n",
       "      <th>video_category_id</th>\n",
       "      <td>0.048644</td>\n",
       "    </tr>\n",
       "    <tr>\n",
       "      <th>video_definition</th>\n",
       "      <td>0.000380</td>\n",
       "    </tr>\n",
       "    <tr>\n",
       "      <th>video_dimension</th>\n",
       "      <td>0.000000</td>\n",
       "    </tr>\n",
       "    <tr>\n",
       "      <th>channel_have_hidden_subscribers</th>\n",
       "      <td>0.000000</td>\n",
       "    </tr>\n",
       "  </tbody>\n",
       "</table>\n",
       "</div>"
      ],
      "text/plain": [
       "                                 importance\n",
       "video_duration                     0.308634\n",
       "channel_view_count                 0.276251\n",
       "channel_subscriber_count           0.224004\n",
       "channel_video_count                0.142087\n",
       "video_category_id                  0.048644\n",
       "video_definition                   0.000380\n",
       "video_dimension                    0.000000\n",
       "channel_have_hidden_subscribers    0.000000"
      ]
     },
     "execution_count": 13,
     "metadata": {},
     "output_type": "execute_result"
    }
   ],
   "source": [
    "# Analyze feature importance\n",
    "feature_importances = pd.DataFrame(rf_classifier.feature_importances_,\n",
    "                                   index=features,\n",
    "                                   columns=['importance']).sort_values('importance', ascending=False)\n",
    "\n",
    "print(\"Feature Importances:\\n\")\n",
    "feature_importances"
   ]
  }
 ],
 "metadata": {
  "kernelspec": {
   "display_name": "Python 3 (ipykernel)",
   "language": "python",
   "name": "python3"
  },
  "language_info": {
   "codemirror_mode": {
    "name": "ipython",
    "version": 3
   },
   "file_extension": ".py",
   "mimetype": "text/x-python",
   "name": "python",
   "nbconvert_exporter": "python",
   "pygments_lexer": "ipython3",
   "version": "3.13.0"
  }
 },
 "nbformat": 4,
 "nbformat_minor": 4
}
