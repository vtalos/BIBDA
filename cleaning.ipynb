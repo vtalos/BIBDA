{
 "cells": [
  {
   "cell_type": "markdown",
   "metadata": {},
   "source": [
    "# Introduction\n",
    "\n",
    "This Jupyter Notebook provides a comprehensive workflow for cleaning and preprocessing a dataset of YouTube trending videos. \n",
    "\n",
    "The dataset contains various attributes related to the videos, and can be found [here](https://www.kaggle.com/datasets/canerkonuk/youtube-trending-videos-global)."
   ]
  },
  {
   "cell_type": "markdown",
   "metadata": {},
   "source": [
    "# Data Cleaning\n",
    "\n",
    "- We start by importing the necessary libraries."
   ]
  },
  {
   "cell_type": "code",
   "execution_count": 1,
   "metadata": {},
   "outputs": [],
   "source": [
    "import pandas as pd\n",
    "import re"
   ]
  },
  {
   "cell_type": "markdown",
   "metadata": {},
   "source": [
    "- We read the CSV and handle the dates properly."
   ]
  },
  {
   "cell_type": "code",
   "execution_count": 2,
   "metadata": {},
   "outputs": [],
   "source": [
    "# Read data and convert data columns to appropriate data types\n",
    "data = pd.read_csv('youtube_trending_videos_global.csv', parse_dates=['video_published_at', 'video_trending__date'])\n",
    "\n",
    "# Convert the 'channel_published_at' column to datetime, with error handling for mixed formats\n",
    "data['channel_published_at'] = pd.to_datetime(data['channel_published_at'], errors='coerce')"
   ]
  },
  {
   "cell_type": "markdown",
   "metadata": {},
   "source": [
    "- We drop the columns that are not needed for the analysis."
   ]
  },
  {
   "cell_type": "code",
   "execution_count": 3,
   "metadata": {},
   "outputs": [],
   "source": [
    "columns_to_drop = [\n",
    "    'video_description', 'video_title', 'video_tags', 'channel_title', \n",
    "    'video_default_thumbnail', 'channel_description', 'channel_custom_url', \n",
    "    'channel_localized_title', 'channel_localized_description'\n",
    "]\n",
    "\n",
    "data = data.drop(columns=columns_to_drop)"
   ]
  },
  {
   "cell_type": "markdown",
   "metadata": {},
   "source": [
    "- Let's take a look at the null values."
   ]
  },
  {
   "cell_type": "code",
   "execution_count": 4,
   "metadata": {},
   "outputs": [
    {
     "data": {
      "text/plain": [
       "video_id                                0\n",
       "video_published_at                      0\n",
       "video_trending__date                    0\n",
       "video_trending_country                  0\n",
       "channel_id                              0\n",
       "video_category_id                     767\n",
       "video_duration                          0\n",
       "video_dimension                         0\n",
       "video_definition                        0\n",
       "video_licensed_content                  0\n",
       "video_view_count                       43\n",
       "video_like_count                    12323\n",
       "video_comment_count                  7558\n",
       "channel_published_at               704584\n",
       "channel_country                    168580\n",
       "channel_view_count                      0\n",
       "channel_subscriber_count                0\n",
       "channel_have_hidden_subscribers         0\n",
       "channel_video_count                     0\n",
       "dtype: int64"
      ]
     },
     "execution_count": 4,
     "metadata": {},
     "output_type": "execute_result"
    }
   ],
   "source": [
    "data.isna().sum()"
   ]
  },
  {
   "cell_type": "markdown",
   "metadata": {},
   "source": [
    "- We fill the null values in `channel_country` with `\"Unknown\"` to facilitate the analysis."
   ]
  },
  {
   "cell_type": "code",
   "execution_count": 5,
   "metadata": {},
   "outputs": [],
   "source": [
    "data['channel_country'] = data['channel_country'].fillna('Unknown')"
   ]
  },
  {
   "cell_type": "markdown",
   "metadata": {},
   "source": [
    "- We drop the rows with null values in key columns for the analysis."
   ]
  },
  {
   "cell_type": "code",
   "execution_count": 6,
   "metadata": {},
   "outputs": [],
   "source": [
    "data = data.dropna(subset=['video_category_id', 'video_view_count', 'video_like_count', 'video_comment_count'])"
   ]
  },
  {
   "cell_type": "markdown",
   "metadata": {},
   "source": [
    "- Let's now check if there are any negative values in `video_view_count`, `video_like_count`, or `video_comment_count`."
   ]
  },
  {
   "cell_type": "code",
   "execution_count": 7,
   "metadata": {},
   "outputs": [
    {
     "data": {
      "text/html": [
       "<div>\n",
       "<style scoped>\n",
       "    .dataframe tbody tr th:only-of-type {\n",
       "        vertical-align: middle;\n",
       "    }\n",
       "\n",
       "    .dataframe tbody tr th {\n",
       "        vertical-align: top;\n",
       "    }\n",
       "\n",
       "    .dataframe thead th {\n",
       "        text-align: right;\n",
       "    }\n",
       "</style>\n",
       "<table border=\"1\" class=\"dataframe\">\n",
       "  <thead>\n",
       "    <tr style=\"text-align: right;\">\n",
       "      <th></th>\n",
       "      <th>video_id</th>\n",
       "      <th>video_published_at</th>\n",
       "      <th>video_trending__date</th>\n",
       "      <th>video_trending_country</th>\n",
       "      <th>channel_id</th>\n",
       "      <th>video_category_id</th>\n",
       "      <th>video_duration</th>\n",
       "      <th>video_dimension</th>\n",
       "      <th>video_definition</th>\n",
       "      <th>video_licensed_content</th>\n",
       "      <th>video_view_count</th>\n",
       "      <th>video_like_count</th>\n",
       "      <th>video_comment_count</th>\n",
       "      <th>channel_published_at</th>\n",
       "      <th>channel_country</th>\n",
       "      <th>channel_view_count</th>\n",
       "      <th>channel_subscriber_count</th>\n",
       "      <th>channel_have_hidden_subscribers</th>\n",
       "      <th>channel_video_count</th>\n",
       "    </tr>\n",
       "  </thead>\n",
       "  <tbody>\n",
       "  </tbody>\n",
       "</table>\n",
       "</div>"
      ],
      "text/plain": [
       "Empty DataFrame\n",
       "Columns: [video_id, video_published_at, video_trending__date, video_trending_country, channel_id, video_category_id, video_duration, video_dimension, video_definition, video_licensed_content, video_view_count, video_like_count, video_comment_count, channel_published_at, channel_country, channel_view_count, channel_subscriber_count, channel_have_hidden_subscribers, channel_video_count]\n",
       "Index: []"
      ]
     },
     "execution_count": 7,
     "metadata": {},
     "output_type": "execute_result"
    }
   ],
   "source": [
    "negative_values = data[(data['video_view_count'] < 0) | (data['video_like_count'] < 0) | (data['video_comment_count'] < 0)]\n",
    "\n",
    "negative_values"
   ]
  },
  {
   "cell_type": "markdown",
   "metadata": {},
   "source": [
    "- No negative values, so we don't need to remove any more rows.\n",
    "\n",
    "- We convert `video_view_count`, `video_like_count`, and `video_comment_count` to integers."
   ]
  },
  {
   "cell_type": "code",
   "execution_count": 8,
   "metadata": {},
   "outputs": [],
   "source": [
    "data['video_view_count'] = data['video_view_count'].astype(int)\n",
    "data['video_like_count'] = data['video_like_count'].astype(int)\n",
    "data['video_comment_count'] = data['video_comment_count'].astype(int)"
   ]
  },
  {
   "cell_type": "markdown",
   "metadata": {},
   "source": [
    "- We also want to convert the ISO 8601 duration to minutes, in order to facilitate the interpretation.\n",
    "\n",
    "- We define a function for this."
   ]
  },
  {
   "cell_type": "code",
   "execution_count": 9,
   "metadata": {},
   "outputs": [],
   "source": [
    "def iso8601_to_minutes(duration):\n",
    "    # Parse ISO 8601 duration using regex\n",
    "    match = re.match(r'PT(?:(\\d+)H)?(?:(\\d+)M)?(?:(\\d+)S)?', duration)\n",
    "    if not match:\n",
    "        return None  # Handle invalid format\n",
    "    \n",
    "    hours, minutes, seconds = match.groups(default=\"0\")\n",
    "    \n",
    "    # Convert to total minutes as a float\n",
    "    total_minutes = int(hours) * 60 + int(minutes) + int(seconds) / 60\n",
    "    return round(total_minutes, 2)  # Round to 2 decimal places"
   ]
  },
  {
   "cell_type": "markdown",
   "metadata": {},
   "source": [
    "- Now we replace the `video_duration` column with the converted values."
   ]
  },
  {
   "cell_type": "code",
   "execution_count": 10,
   "metadata": {},
   "outputs": [],
   "source": [
    "data['video_duration'] = data['video_duration'].apply(iso8601_to_minutes)"
   ]
  },
  {
   "cell_type": "markdown",
   "metadata": {},
   "source": [
    "- Let's save the cleaned data to a new CSV file."
   ]
  },
  {
   "cell_type": "code",
   "execution_count": 11,
   "metadata": {},
   "outputs": [
    {
     "data": {
      "text/html": [
       "<div>\n",
       "<style scoped>\n",
       "    .dataframe tbody tr th:only-of-type {\n",
       "        vertical-align: middle;\n",
       "    }\n",
       "\n",
       "    .dataframe tbody tr th {\n",
       "        vertical-align: top;\n",
       "    }\n",
       "\n",
       "    .dataframe thead th {\n",
       "        text-align: right;\n",
       "    }\n",
       "</style>\n",
       "<table border=\"1\" class=\"dataframe\">\n",
       "  <thead>\n",
       "    <tr style=\"text-align: right;\">\n",
       "      <th></th>\n",
       "      <th>video_id</th>\n",
       "      <th>video_published_at</th>\n",
       "      <th>video_trending__date</th>\n",
       "      <th>video_trending_country</th>\n",
       "      <th>channel_id</th>\n",
       "      <th>video_category_id</th>\n",
       "      <th>video_duration</th>\n",
       "      <th>video_dimension</th>\n",
       "      <th>video_definition</th>\n",
       "      <th>video_licensed_content</th>\n",
       "      <th>video_view_count</th>\n",
       "      <th>video_like_count</th>\n",
       "      <th>video_comment_count</th>\n",
       "      <th>channel_published_at</th>\n",
       "      <th>channel_country</th>\n",
       "      <th>channel_view_count</th>\n",
       "      <th>channel_subscriber_count</th>\n",
       "      <th>channel_have_hidden_subscribers</th>\n",
       "      <th>channel_video_count</th>\n",
       "    </tr>\n",
       "  </thead>\n",
       "  <tbody>\n",
       "    <tr>\n",
       "      <th>0</th>\n",
       "      <td>bB3-CUMERIU</td>\n",
       "      <td>2024-10-11 00:00:06+00:00</td>\n",
       "      <td>2024-10-12</td>\n",
       "      <td>United Arab Emirates</td>\n",
       "      <td>UCNYi_zGmR519r5gYdOKLTjQ</td>\n",
       "      <td>Music</td>\n",
       "      <td>2.47</td>\n",
       "      <td>2d</td>\n",
       "      <td>hd</td>\n",
       "      <td>False</td>\n",
       "      <td>20535235</td>\n",
       "      <td>2042255</td>\n",
       "      <td>152933</td>\n",
       "      <td>2021-01-13 06:19:55.866890+00:00</td>\n",
       "      <td>Unknown</td>\n",
       "      <td>464615150</td>\n",
       "      <td>11600000</td>\n",
       "      <td>False</td>\n",
       "      <td>43</td>\n",
       "    </tr>\n",
       "    <tr>\n",
       "      <th>2</th>\n",
       "      <td>zfb0whgBBA8</td>\n",
       "      <td>2024-10-11 11:07:25+00:00</td>\n",
       "      <td>2024-10-12</td>\n",
       "      <td>United Arab Emirates</td>\n",
       "      <td>UCgGYPnVJytkr6sVNLQ-l0zQ</td>\n",
       "      <td>Gaming</td>\n",
       "      <td>43.40</td>\n",
       "      <td>2d</td>\n",
       "      <td>hd</td>\n",
       "      <td>True</td>\n",
       "      <td>853167</td>\n",
       "      <td>101155</td>\n",
       "      <td>10541</td>\n",
       "      <td>NaT</td>\n",
       "      <td>Saudi Arabia</td>\n",
       "      <td>114331110</td>\n",
       "      <td>1380000</td>\n",
       "      <td>False</td>\n",
       "      <td>314</td>\n",
       "    </tr>\n",
       "    <tr>\n",
       "      <th>4</th>\n",
       "      <td>UVb6QOKy0bI</td>\n",
       "      <td>2024-10-09 12:30:27+00:00</td>\n",
       "      <td>2024-10-12</td>\n",
       "      <td>United Arab Emirates</td>\n",
       "      <td>UCOzubmwpVZI7gD0Jf7Bk3Aw</td>\n",
       "      <td>Film &amp; Animation</td>\n",
       "      <td>2.20</td>\n",
       "      <td>2d</td>\n",
       "      <td>hd</td>\n",
       "      <td>True</td>\n",
       "      <td>1730189</td>\n",
       "      <td>67522</td>\n",
       "      <td>2869</td>\n",
       "      <td>NaT</td>\n",
       "      <td>Unknown</td>\n",
       "      <td>19991522</td>\n",
       "      <td>40600</td>\n",
       "      <td>False</td>\n",
       "      <td>56</td>\n",
       "    </tr>\n",
       "    <tr>\n",
       "      <th>5</th>\n",
       "      <td>IINqHUM71Xo</td>\n",
       "      <td>2024-10-12 02:03:10+00:00</td>\n",
       "      <td>2024-10-12</td>\n",
       "      <td>United Arab Emirates</td>\n",
       "      <td>UCHZArBtk2eda0AVR6HI4qMw</td>\n",
       "      <td>Gaming</td>\n",
       "      <td>0.25</td>\n",
       "      <td>2d</td>\n",
       "      <td>hd</td>\n",
       "      <td>True</td>\n",
       "      <td>1073421</td>\n",
       "      <td>35534</td>\n",
       "      <td>1263</td>\n",
       "      <td>NaT</td>\n",
       "      <td>Morocco</td>\n",
       "      <td>655373060</td>\n",
       "      <td>4710000</td>\n",
       "      <td>False</td>\n",
       "      <td>1746</td>\n",
       "    </tr>\n",
       "    <tr>\n",
       "      <th>6</th>\n",
       "      <td>6YMY62tMLUA</td>\n",
       "      <td>2024-10-09 09:00:08+00:00</td>\n",
       "      <td>2024-10-12</td>\n",
       "      <td>United Arab Emirates</td>\n",
       "      <td>UCq-Fj5jknLsUf-MWSy4_brA</td>\n",
       "      <td>Music</td>\n",
       "      <td>3.85</td>\n",
       "      <td>2d</td>\n",
       "      <td>hd</td>\n",
       "      <td>True</td>\n",
       "      <td>56032799</td>\n",
       "      <td>1058450</td>\n",
       "      <td>44767</td>\n",
       "      <td>NaT</td>\n",
       "      <td>India</td>\n",
       "      <td>269373477007</td>\n",
       "      <td>276000000</td>\n",
       "      <td>False</td>\n",
       "      <td>21864</td>\n",
       "    </tr>\n",
       "  </tbody>\n",
       "</table>\n",
       "</div>"
      ],
      "text/plain": [
       "      video_id        video_published_at video_trending__date  \\\n",
       "0  bB3-CUMERIU 2024-10-11 00:00:06+00:00           2024-10-12   \n",
       "2  zfb0whgBBA8 2024-10-11 11:07:25+00:00           2024-10-12   \n",
       "4  UVb6QOKy0bI 2024-10-09 12:30:27+00:00           2024-10-12   \n",
       "5  IINqHUM71Xo 2024-10-12 02:03:10+00:00           2024-10-12   \n",
       "6  6YMY62tMLUA 2024-10-09 09:00:08+00:00           2024-10-12   \n",
       "\n",
       "  video_trending_country                channel_id video_category_id  \\\n",
       "0   United Arab Emirates  UCNYi_zGmR519r5gYdOKLTjQ             Music   \n",
       "2   United Arab Emirates  UCgGYPnVJytkr6sVNLQ-l0zQ            Gaming   \n",
       "4   United Arab Emirates  UCOzubmwpVZI7gD0Jf7Bk3Aw  Film & Animation   \n",
       "5   United Arab Emirates  UCHZArBtk2eda0AVR6HI4qMw            Gaming   \n",
       "6   United Arab Emirates  UCq-Fj5jknLsUf-MWSy4_brA             Music   \n",
       "\n",
       "   video_duration video_dimension video_definition  video_licensed_content  \\\n",
       "0            2.47              2d               hd                   False   \n",
       "2           43.40              2d               hd                    True   \n",
       "4            2.20              2d               hd                    True   \n",
       "5            0.25              2d               hd                    True   \n",
       "6            3.85              2d               hd                    True   \n",
       "\n",
       "   video_view_count  video_like_count  video_comment_count  \\\n",
       "0          20535235           2042255               152933   \n",
       "2            853167            101155                10541   \n",
       "4           1730189             67522                 2869   \n",
       "5           1073421             35534                 1263   \n",
       "6          56032799           1058450                44767   \n",
       "\n",
       "              channel_published_at channel_country  channel_view_count  \\\n",
       "0 2021-01-13 06:19:55.866890+00:00         Unknown           464615150   \n",
       "2                              NaT    Saudi Arabia           114331110   \n",
       "4                              NaT         Unknown            19991522   \n",
       "5                              NaT         Morocco           655373060   \n",
       "6                              NaT           India        269373477007   \n",
       "\n",
       "   channel_subscriber_count  channel_have_hidden_subscribers  \\\n",
       "0                  11600000                            False   \n",
       "2                   1380000                            False   \n",
       "4                     40600                            False   \n",
       "5                   4710000                            False   \n",
       "6                 276000000                            False   \n",
       "\n",
       "   channel_video_count  \n",
       "0                   43  \n",
       "2                  314  \n",
       "4                   56  \n",
       "5                 1746  \n",
       "6                21864  "
      ]
     },
     "execution_count": 11,
     "metadata": {},
     "output_type": "execute_result"
    }
   ],
   "source": [
    "data.to_csv('cleaned_youtube_trending_videos_global.csv', index=False)\n",
    "\n",
    "data.head()"
   ]
  }
 ],
 "metadata": {
  "kernelspec": {
   "display_name": "Python 3",
   "language": "python",
   "name": "python3"
  },
  "language_info": {
   "codemirror_mode": {
    "name": "ipython",
    "version": 3
   },
   "file_extension": ".py",
   "mimetype": "text/x-python",
   "name": "python",
   "nbconvert_exporter": "python",
   "pygments_lexer": "ipython3",
   "version": "3.12.6"
  }
 },
 "nbformat": 4,
 "nbformat_minor": 2
}
